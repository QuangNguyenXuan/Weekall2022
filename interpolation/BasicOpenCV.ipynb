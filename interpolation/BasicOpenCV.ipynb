{
 "cells": [
  {
   "cell_type": "code",
   "execution_count": 26,
   "metadata": {
    "jupyter": {
     "outputs_hidden": false
    }
   },
   "outputs": [],
   "source": [
    "import cv2\n",
    "\n",
    "# read a grayscale image\n",
    "img = cv2.imread('nature.jpg', 0)\n",
    "\n",
    "# show the image\n",
    "cv2.imshow(\"img\", img)\n",
    "\n",
    "# copy them when showing an image\n",
    "cv2.waitKey()\n",
    "cv2.destroyAllWindows()"
   ]
  },
  {
   "cell_type": "code",
   "execution_count": 27,
   "metadata": {},
   "outputs": [
    {
     "data": {
      "text/plain": [
       "True"
      ]
     },
     "execution_count": 27,
     "metadata": {},
     "output_type": "execute_result"
    }
   ],
   "source": [
    "import cv2\n",
    "\n",
    "# read a grayscale image\n",
    "img = cv2.imread('nature.jpg', 0)\n",
    "\n",
    "# save the image\n",
    "cv2.imwrite('processed_image_0.jpg', img)"
   ]
  },
  {
   "cell_type": "code",
   "execution_count": null,
   "metadata": {},
   "outputs": [],
   "source": []
  },
  {
   "cell_type": "code",
   "execution_count": 28,
   "metadata": {},
   "outputs": [
    {
     "name": "stdout",
     "output_type": "stream",
     "text": [
      "(500, 1200)\n"
     ]
    }
   ],
   "source": [
    "# get image info\n",
    "\n",
    "import numpy as np\n",
    "import cv2\n",
    "\n",
    "# read a grayscale image\n",
    "img = cv2.imread('nature.jpg', 0)\n",
    "\n",
    "shape = img.shape\n",
    "print(shape)"
   ]
  },
  {
   "cell_type": "code",
   "execution_count": null,
   "metadata": {},
   "outputs": [],
   "source": []
  },
  {
   "cell_type": "code",
   "execution_count": null,
   "metadata": {},
   "outputs": [],
   "source": []
  },
  {
   "cell_type": "code",
   "execution_count": null,
   "metadata": {},
   "outputs": [],
   "source": []
  },
  {
   "cell_type": "code",
   "execution_count": 29,
   "metadata": {},
   "outputs": [],
   "source": [
    "import cv2\n",
    "\n",
    "# read a color image\n",
    "img = cv2.imread('nature.jpg', 1)\n",
    "\n",
    "# show the image\n",
    "cv2.imshow(\"img\", img)\n",
    "\n",
    "# copy them when showing an image\n",
    "cv2.waitKey()\n",
    "cv2.destroyAllWindows()"
   ]
  },
  {
   "cell_type": "code",
   "execution_count": null,
   "metadata": {},
   "outputs": [],
   "source": []
  },
  {
   "cell_type": "code",
   "execution_count": 30,
   "metadata": {},
   "outputs": [
    {
     "data": {
      "text/plain": [
       "True"
      ]
     },
     "execution_count": 30,
     "metadata": {},
     "output_type": "execute_result"
    }
   ],
   "source": [
    "import cv2\n",
    "\n",
    "# read a color image\n",
    "img = cv2.imread('nature.jpg', 1)\n",
    "\n",
    "# save the image\n",
    "cv2.imwrite('processed_image_1.jpg', img)"
   ]
  },
  {
   "cell_type": "code",
   "execution_count": null,
   "metadata": {},
   "outputs": [],
   "source": []
  },
  {
   "cell_type": "code",
   "execution_count": 31,
   "metadata": {},
   "outputs": [
    {
     "name": "stdout",
     "output_type": "stream",
     "text": [
      "(500, 1200, 3)\n"
     ]
    }
   ],
   "source": [
    "# get image info\n",
    "\n",
    "import numpy as np\n",
    "import cv2\n",
    "\n",
    "# read a grayscale image\n",
    "img = cv2.imread('nature.jpg', 1)\n",
    "\n",
    "shape = img.shape\n",
    "print(shape)"
   ]
  },
  {
   "cell_type": "code",
   "execution_count": null,
   "metadata": {},
   "outputs": [],
   "source": []
  },
  {
   "cell_type": "code",
   "execution_count": null,
   "metadata": {},
   "outputs": [],
   "source": []
  },
  {
   "cell_type": "markdown",
   "metadata": {},
   "source": [
    "## Increasing the brightness of a grayscale image"
   ]
  },
  {
   "cell_type": "code",
   "execution_count": 20,
   "metadata": {},
   "outputs": [
    {
     "data": {
      "text/plain": [
       "True"
      ]
     },
     "execution_count": 20,
     "metadata": {},
     "output_type": "execute_result"
    }
   ],
   "source": [
    "import cv2\n",
    "\n",
    "# read a grayscale image\n",
    "img = cv2.imread('nature.jpg', 0)\n",
    "\n",
    "img[0, 0] = 255\n",
    "img[0, 1] = 255\n",
    "img[1, 0] = 255\n",
    "img[0, 1] = 255\n",
    "\n",
    "# show the image\n",
    "cv2.imshow(\"img\", img)\n",
    "\n",
    "# copy them when showing an image\n",
    "cv2.waitKey()\n",
    "cv2.destroyAllWindows()\n",
    "\n",
    "# save the image\n",
    "cv2.imwrite('nature_m1.jpg', img)"
   ]
  },
  {
   "cell_type": "code",
   "execution_count": null,
   "metadata": {},
   "outputs": [],
   "source": []
  },
  {
   "cell_type": "code",
   "execution_count": 22,
   "metadata": {},
   "outputs": [
    {
     "data": {
      "text/plain": [
       "True"
      ]
     },
     "execution_count": 22,
     "metadata": {},
     "output_type": "execute_result"
    }
   ],
   "source": [
    "# increase bightness\n",
    "\n",
    "import cv2\n",
    "\n",
    "# read a grayscale image\n",
    "img = cv2.imread('nature.jpg', 0)\n",
    "\n",
    "# get height and width\n",
    "height, width = img.shape\n",
    "\n",
    "# process\n",
    "for i in range(height):\n",
    "    for j in range(width):\n",
    "        img[i, j] = img[i, j] + 50\n",
    "\n",
    "# save the image\n",
    "cv2.imwrite('nature_m2.jpg', img)"
   ]
  },
  {
   "cell_type": "code",
   "execution_count": 23,
   "metadata": {},
   "outputs": [
    {
     "data": {
      "text/plain": [
       "True"
      ]
     },
     "execution_count": 23,
     "metadata": {},
     "output_type": "execute_result"
    }
   ],
   "source": [
    "# increase bightness\n",
    "\n",
    "import cv2\n",
    "\n",
    "def get_min(a, b):\n",
    "    min_value = a\n",
    "    \n",
    "    if (b < a):\n",
    "        min_value = b\n",
    "        \n",
    "    return min_value\n",
    "\n",
    "# read a grayscale image\n",
    "img = cv2.imread('nature.jpg', 0)\n",
    "\n",
    "# get height and width\n",
    "height, width = img.shape\n",
    "\n",
    "# process\n",
    "for i in range(height):\n",
    "    for j in range(width):\n",
    "        img[i, j] = get_min(img[i, j] + 50, 255)\n",
    "\n",
    "# save the image\n",
    "cv2.imwrite('nature_m3.jpg', img)"
   ]
  },
  {
   "cell_type": "code",
   "execution_count": null,
   "metadata": {},
   "outputs": [],
   "source": []
  },
  {
   "cell_type": "markdown",
   "metadata": {},
   "source": [
    "### Increasing the brightness of a color image"
   ]
  },
  {
   "cell_type": "code",
   "execution_count": 32,
   "metadata": {},
   "outputs": [
    {
     "data": {
      "text/plain": [
       "True"
      ]
     },
     "execution_count": 32,
     "metadata": {},
     "output_type": "execute_result"
    }
   ],
   "source": [
    "# increase bightness\n",
    "\n",
    "import cv2\n",
    "\n",
    "def get_min(a, b):\n",
    "    min_value = a\n",
    "    \n",
    "    if (b < a):\n",
    "        min_value = b\n",
    "        \n",
    "    return min_value\n",
    "\n",
    "# read a grayscale image\n",
    "img = cv2.imread('nature.jpg', 1)\n",
    "\n",
    "# get height and width\n",
    "height, width, channel = img.shape\n",
    "\n",
    "# process\n",
    "for c in range(channel):\n",
    "    for i in range(height):\n",
    "        for j in range(width):\n",
    "            img[i, j, c] = get_min(img[i, j, c] + 50, 255)\n",
    "\n",
    "# save the image\n",
    "cv2.imwrite('nature_m4.jpg', img)"
   ]
  },
  {
   "cell_type": "code",
   "execution_count": null,
   "metadata": {},
   "outputs": [],
   "source": []
  },
  {
   "cell_type": "markdown",
   "metadata": {},
   "source": [
    "### Quiz: Decrease the brightnesses"
   ]
  },
  {
   "cell_type": "code",
   "execution_count": 34,
   "metadata": {},
   "outputs": [
    {
     "data": {
      "text/plain": [
       "True"
      ]
     },
     "execution_count": 34,
     "metadata": {},
     "output_type": "execute_result"
    }
   ],
   "source": [
    "# increase bightness\n",
    "\n",
    "import cv2\n",
    "\n",
    "def get_max(a, b):\n",
    "    max_value = a\n",
    "    \n",
    "    if (b > a):\n",
    "        max_value = b\n",
    "        \n",
    "    return max_value\n",
    "\n",
    "# read a grayscale image\n",
    "img = cv2.imread('nature.jpg', 1)\n",
    "\n",
    "# get height and width\n",
    "height, width, channel = img.shape\n",
    "\n",
    "# process\n",
    "for c in range(channel):\n",
    "    for i in range(height):\n",
    "        for j in range(width):\n",
    "            img[i, j, c] = get_max(img[i, j, c] - 50, 0)\n",
    "\n",
    "# save the image\n",
    "cv2.imwrite('nature_m5.jpg', img)"
   ]
  },
  {
   "cell_type": "code",
   "execution_count": null,
   "metadata": {},
   "outputs": [],
   "source": []
  },
  {
   "cell_type": "markdown",
   "metadata": {},
   "source": [
    "### Copy an image"
   ]
  },
  {
   "cell_type": "code",
   "execution_count": 35,
   "metadata": {},
   "outputs": [
    {
     "data": {
      "text/plain": [
       "True"
      ]
     },
     "execution_count": 35,
     "metadata": {},
     "output_type": "execute_result"
    }
   ],
   "source": [
    "# create a black image\n",
    "\n",
    "import cv2\n",
    "import numpy as np\n",
    "\n",
    "# set height and width\n",
    "height, width = 300, 600\n",
    "data = np.full((height, width), 0)\n",
    "\n",
    "# save the image\n",
    "cv2.imwrite('created_image1.jpg', data)"
   ]
  },
  {
   "cell_type": "code",
   "execution_count": null,
   "metadata": {},
   "outputs": [],
   "source": []
  },
  {
   "cell_type": "code",
   "execution_count": 36,
   "metadata": {},
   "outputs": [
    {
     "data": {
      "text/plain": [
       "True"
      ]
     },
     "execution_count": 36,
     "metadata": {},
     "output_type": "execute_result"
    }
   ],
   "source": [
    "# create a black image\n",
    "\n",
    "import cv2\n",
    "import numpy as np\n",
    "\n",
    "# set height and width\n",
    "height, width = 300, 600\n",
    "data = np.full((height, width), 255)\n",
    "\n",
    "# save the image\n",
    "cv2.imwrite('created_image2.jpg', data)"
   ]
  },
  {
   "cell_type": "code",
   "execution_count": null,
   "metadata": {},
   "outputs": [],
   "source": []
  },
  {
   "cell_type": "code",
   "execution_count": 37,
   "metadata": {},
   "outputs": [
    {
     "data": {
      "text/plain": [
       "True"
      ]
     },
     "execution_count": 37,
     "metadata": {},
     "output_type": "execute_result"
    }
   ],
   "source": [
    "# create a black image\n",
    "\n",
    "import cv2\n",
    "import numpy as np\n",
    "\n",
    "# set height and width\n",
    "height, width, channel = 300, 600, 3\n",
    "data = np.full((height, width, channel), 255)\n",
    "\n",
    "# save the image\n",
    "cv2.imwrite('created_image3.jpg', data)"
   ]
  },
  {
   "cell_type": "code",
   "execution_count": null,
   "metadata": {},
   "outputs": [],
   "source": []
  },
  {
   "cell_type": "code",
   "execution_count": 38,
   "metadata": {},
   "outputs": [
    {
     "data": {
      "text/plain": [
       "True"
      ]
     },
     "execution_count": 38,
     "metadata": {},
     "output_type": "execute_result"
    }
   ],
   "source": [
    "# copy an image (same size)\n",
    "\n",
    "import cv2\n",
    "import numpy as np\n",
    "\n",
    "# read a grayscale image\n",
    "img = cv2.imread('nature.jpg', 0)\n",
    "\n",
    "# get height and width\n",
    "height, width = img.shape\n",
    "\n",
    "# create a matrix\n",
    "data = np.full((height, width), 0)\n",
    "\n",
    "# process\n",
    "for i in range(height):\n",
    "    for j in range(width):\n",
    "        data[i, j] = img[i, j]\n",
    "\n",
    "# save the image\n",
    "cv2.imwrite('copied_image.jpg', data)"
   ]
  },
  {
   "cell_type": "code",
   "execution_count": null,
   "metadata": {},
   "outputs": [],
   "source": []
  },
  {
   "cell_type": "code",
   "execution_count": 39,
   "metadata": {},
   "outputs": [
    {
     "data": {
      "text/plain": [
       "True"
      ]
     },
     "execution_count": 39,
     "metadata": {},
     "output_type": "execute_result"
    }
   ],
   "source": [
    "# copy an image (same size)\n",
    "\n",
    "import cv2\n",
    "import numpy as np\n",
    "\n",
    "# read a grayscale image\n",
    "img = cv2.imread('nature.jpg', 0)\n",
    "\n",
    "# get height and width\n",
    "height, width = img.shape\n",
    "\n",
    "# create a matrix\n",
    "data = np.full((height*2, width*2), 0)\n",
    "\n",
    "# process\n",
    "for i in range(height):\n",
    "    for j in range(width):\n",
    "        data[i, j] = img[i, j]\n",
    "\n",
    "# save the image\n",
    "cv2.imwrite('copied_image_2.jpg', data)"
   ]
  },
  {
   "cell_type": "code",
   "execution_count": null,
   "metadata": {},
   "outputs": [],
   "source": []
  },
  {
   "cell_type": "markdown",
   "metadata": {},
   "source": [
    "### Upsampling: mapping"
   ]
  },
  {
   "cell_type": "code",
   "execution_count": 44,
   "metadata": {},
   "outputs": [
    {
     "data": {
      "text/plain": [
       "True"
      ]
     },
     "execution_count": 44,
     "metadata": {},
     "output_type": "execute_result"
    }
   ],
   "source": [
    "# upsampling\n",
    "# scale is an integer\n",
    "\n",
    "import cv2\n",
    "import numpy as np\n",
    "\n",
    "# read a grayscale image\n",
    "img = cv2.imread('nature.jpg', 0)\n",
    "\n",
    "# get height and width\n",
    "height, width = img.shape\n",
    "\n",
    "# using scale=2 (integer)\n",
    "scale = 2\n",
    "new_height = height*scale\n",
    "new_width  = width*scale\n",
    "\n",
    "# create a matrix\n",
    "data = np.full((new_height, new_width), 0)\n",
    "\n",
    "# process\n",
    "for i in range(height):\n",
    "    for j in range(width):\n",
    "        data[i*scale, j*scale] = img[i, j]\n",
    "\n",
    "# save the image\n",
    "cv2.imwrite('upsampled_image_1.jpg', data)"
   ]
  },
  {
   "cell_type": "code",
   "execution_count": null,
   "metadata": {},
   "outputs": [],
   "source": []
  },
  {
   "cell_type": "markdown",
   "metadata": {},
   "source": [
    "### Using nearest neighbor"
   ]
  },
  {
   "cell_type": "code",
   "execution_count": 3,
   "metadata": {},
   "outputs": [
    {
     "name": "stdout",
     "output_type": "stream",
     "text": [
      "500 1200\n",
      "1000 2400\n"
     ]
    },
    {
     "data": {
      "text/plain": [
       "True"
      ]
     },
     "execution_count": 3,
     "metadata": {},
     "output_type": "execute_result"
    }
   ],
   "source": [
    "# upsampling (grayscale image)\n",
    "# scale is an integer\n",
    "\n",
    "import cv2\n",
    "import numpy as np\n",
    "\n",
    "# read a grayscale image\n",
    "img = cv2.imread('nature.jpg', 0)\n",
    "\n",
    "# get height and width\n",
    "height, width = img.shape\n",
    "print(height, width)\n",
    "\n",
    "# using scale=2 (integer) for the sake of simplicity\n",
    "scale = 2\n",
    "new_height = height*scale\n",
    "new_width  = width*scale\n",
    "print(new_height, new_width)\n",
    "\n",
    "# create a matrix\n",
    "data = np.full((new_height, new_width), 0)\n",
    "\n",
    "# process\n",
    "for i in range(new_height):\n",
    "    for j in range(new_width):\n",
    "        data[i, j] = img[i//scale, j//scale]\n",
    "\n",
    "# save the image\n",
    "cv2.imwrite('upsampled_image_NN.jpg', data)"
   ]
  },
  {
   "cell_type": "code",
   "execution_count": null,
   "metadata": {},
   "outputs": [],
   "source": []
  },
  {
   "cell_type": "code",
   "execution_count": 4,
   "metadata": {},
   "outputs": [
    {
     "data": {
      "text/plain": [
       "True"
      ]
     },
     "execution_count": 4,
     "metadata": {},
     "output_type": "execute_result"
    }
   ],
   "source": [
    "# upsampling (grayscale image)\n",
    "# scale is an integer\n",
    "\n",
    "import cv2\n",
    "import numpy as np\n",
    "\n",
    "# read a grayscale image\n",
    "img = cv2.imread('nature.jpg', 1)\n",
    "\n",
    "# get height and width\n",
    "height, width, channel = img.shape\n",
    "\n",
    "# using scale=2 (integer) for the sake of simplicity\n",
    "scale = 2\n",
    "new_height = height*scale\n",
    "new_width  = width*scale\n",
    "\n",
    "# create a matrix\n",
    "data = np.full((new_height, new_width, channel), 0)\n",
    "\n",
    "# process\n",
    "for c in range(channel):\n",
    "    for i in range(new_height):\n",
    "        for j in range(new_width):\n",
    "            # ...\n",
    "\n",
    "# save the image\n",
    "cv2.imwrite('upsampled_image_NN_color.jpg', data)"
   ]
  },
  {
   "cell_type": "code",
   "execution_count": null,
   "metadata": {},
   "outputs": [],
   "source": []
  },
  {
   "cell_type": "code",
   "execution_count": null,
   "metadata": {},
   "outputs": [],
   "source": []
  },
  {
   "cell_type": "code",
   "execution_count": null,
   "metadata": {},
   "outputs": [],
   "source": []
  }
 ],
 "metadata": {
  "kernelspec": {
   "display_name": "Python 3 (ipykernel)",
   "language": "python",
   "name": "python3"
  },
  "language_info": {
   "codemirror_mode": {
    "name": "ipython",
    "version": 3
   },
   "file_extension": ".py",
   "mimetype": "text/x-python",
   "name": "python",
   "nbconvert_exporter": "python",
   "pygments_lexer": "ipython3",
   "version": "3.9.12"
  }
 },
 "nbformat": 4,
 "nbformat_minor": 4
}
