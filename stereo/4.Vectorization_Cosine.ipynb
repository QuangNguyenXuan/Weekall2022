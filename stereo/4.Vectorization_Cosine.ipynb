{
 "cells": [
  {
   "cell_type": "markdown",
   "id": "38582c63",
   "metadata": {},
   "source": [
    "## Cosine"
   ]
  },
  {
   "cell_type": "code",
   "execution_count": 5,
   "id": "24d61022",
   "metadata": {},
   "outputs": [
    {
     "name": "stderr",
     "output_type": "stream",
     "text": [
      "C:\\Users\\Dinh Vinh\\AppData\\Local\\Temp\\ipykernel_12616\\2113956217.py:58: RuntimeWarning: invalid value encountered in sqrt\n",
      "  denor = np.sqrt(integral_xx_sum[:, j:width])*np.sqrt(integral_yy_sum[:, :width-j])\n"
     ]
    }
   ],
   "source": [
    "# there are bugs - overflow somewhere!!!\n",
    "\n",
    "import cv2\n",
    "import numpy as np\n",
    "\n",
    "# cho trước chiều rộng và chiều cao của ảnh\n",
    "height = 288\n",
    "width  = 384\n",
    "\n",
    "def compute_integral_image(data):\n",
    "    sum_axis_0 = np.cumsum(data, axis=0)\n",
    "    sum_axis_1 = np.cumsum(sum_axis_0, axis=1)\n",
    "    return sum_axis_1\n",
    "\n",
    "def stereo_matching(left_img, right_img, disparity_range):   \n",
    "    # đọc ảnh trái và ảnh phải, rồi chuyển sang ảnh grayscale\n",
    "    left  = cv2.imread(left_img, 0)    \n",
    "    right = cv2.imread(right_img, 0)  \n",
    "    \n",
    "    left  = left.astype(np.float32)\n",
    "    right = right.astype(np.float32)\n",
    "    \n",
    "    # compute integral image space\n",
    "    integral_xy = np.full((height, width, disparity_range), 255*255, np.float32)\n",
    "    integral_xx = np.full((height, width), 255*255, np.float32)\n",
    "    integral_yy = np.full((height, width), 255*255, np.float32)    \n",
    "   \n",
    "    integral_xx = compute_integral_image(left*left)\n",
    "    integral_yy = compute_integral_image(right*right)\n",
    "    for j in range(disparity_range):        \n",
    "        integral_xy[:, j:width, j] = left[:,j:width]*right[:, :width-j]\n",
    "        integral_xy[:,:,j] = compute_integral_image(integral_xy[:,:,j])\n",
    "        \n",
    "    # compute sum\n",
    "    side = 2\n",
    "    integral_xy_sum = np.full((height, width, disparity_range), 255*255, np.float32)    \n",
    "    integral_xy_sum[:height-side, :width-side, :] = integral_xy[side:, side:, :]\n",
    "    integral_xy_sum[side+1:, side+1:, :] = integral_xy_sum[side+1:, side+1:, :] + integral_xy[:height-side-1, :width-side-1, :]\n",
    "    integral_xy_sum[side+1:, :width-side, :] = integral_xy_sum[side+1:, :width-side, :] - integral_xy[:height-side-1, side:, :]\n",
    "    integral_xy_sum[:height-side, side+1:, :] = integral_xy_sum[:height-side, side+1:, :] - integral_xy[side:, :width-side-1, :]\n",
    "    \n",
    "    integral_xx_sum = np.full((height, width), 255*255, np.float32)    \n",
    "    integral_xx_sum[:height-side, :width-side] = integral_xx[side:, side:]\n",
    "    integral_xx_sum[side+1:, side+1:] = integral_xx_sum[side+1:, side+1:] + integral_xx[:height-side-1, :width-side-1]\n",
    "    integral_xx_sum[side+1:, :width-side] = integral_xx_sum[side+1:, :width-side] - integral_xx[:height-side-1, side:]\n",
    "    integral_xx_sum[:height-side, side+1:] = integral_xx_sum[:height-side, side+1:] - integral_xx[side:, :width-side-1]\n",
    "    \n",
    "    integral_yy_sum = np.full((height, width), 255*255, np.float32)    \n",
    "    integral_yy_sum[:height-side, :width-side] = integral_yy[side:, side:]\n",
    "    integral_yy_sum[side+1:, side+1:] = integral_yy_sum[side+1:, side+1:] + integral_yy[:height-side-1, :width-side-1]\n",
    "    integral_yy_sum[side+1:, :width-side] = integral_yy_sum[side+1:, :width-side] - integral_yy[:height-side-1, side:]\n",
    "    integral_yy_sum[:height-side, side+1:] = integral_yy_sum[:height-side, side+1:] - integral_yy[side:, :width-side-1]\n",
    "    \n",
    "    # compute cost\n",
    "    cost_space = np.full((height, width, disparity_range), -1.0, np.float32)\n",
    "    for j in range(disparity_range):\n",
    "        denor = np.sqrt(integral_xx_sum[:, j:width])*np.sqrt(integral_yy_sum[:, :width-j])\n",
    "        cost_space[:, j:width, j] = integral_xy_sum[:, j:width, j] / denor\n",
    "        \n",
    "    # compute disparity from cost space\n",
    "    scale = 255 / disparity_range    \n",
    "    depth = np.argmax(cost_space, axis=2)\n",
    "    depth = depth*scale\n",
    "    depth = depth.astype(np.uint8)\n",
    "                \n",
    "    # chuyển dữ liệu từ ndarray sang kiểu Image và lưu xuống file\n",
    "    cv2.imwrite('images/disparity_cosine.png', depth)  \n",
    "         \n",
    "if __name__ == '__main__':\n",
    "    disparity_range = 16 # cho cặp ảnh Tsukuba\n",
    "    stereo_matching(\"images/left.png\", \"images/right.png\", disparity_range)"
   ]
  },
  {
   "cell_type": "code",
   "execution_count": null,
   "id": "31290b3b",
   "metadata": {},
   "outputs": [],
   "source": []
  },
  {
   "cell_type": "code",
   "execution_count": null,
   "id": "843e1da2",
   "metadata": {},
   "outputs": [],
   "source": []
  },
  {
   "cell_type": "code",
   "execution_count": null,
   "id": "8f5147dc",
   "metadata": {},
   "outputs": [],
   "source": []
  },
  {
   "cell_type": "code",
   "execution_count": null,
   "id": "38d33506",
   "metadata": {},
   "outputs": [],
   "source": []
  }
 ],
 "metadata": {
  "kernelspec": {
   "display_name": "Python 3 (ipykernel)",
   "language": "python",
   "name": "python3"
  },
  "language_info": {
   "codemirror_mode": {
    "name": "ipython",
    "version": 3
   },
   "file_extension": ".py",
   "mimetype": "text/x-python",
   "name": "python",
   "nbconvert_exporter": "python",
   "pygments_lexer": "ipython3",
   "version": "3.9.13"
  }
 },
 "nbformat": 4,
 "nbformat_minor": 5
}
