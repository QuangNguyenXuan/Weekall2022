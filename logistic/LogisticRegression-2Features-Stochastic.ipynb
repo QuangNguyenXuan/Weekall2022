{
 "cells": [
  {
   "cell_type": "code",
   "execution_count": 1,
   "metadata": {},
   "outputs": [
    {
     "data": {
      "text/plain": [
       "<matplotlib.legend.Legend at 0x1a69b910940>"
      ]
     },
     "execution_count": 1,
     "metadata": {},
     "output_type": "execute_result"
    },
    {
     "data": {
      "image/png": "[encoded data removed]",
      "text/plain": [
       "<Figure size 720x432 with 1 Axes>"
      ]
     },
     "metadata": {
      "needs_background": "light"
     },
     "output_type": "display_data"
    }
   ],
   "source": [
    "import numpy as np\n",
    "import matplotlib.pyplot as plt\n",
    "\n",
    "iris = np.genfromtxt('iris_Petal.csv', dtype=None, delimiter=',', skip_header=1) \n",
    "\n",
    "X_data = iris[:, :2]\n",
    "y_data = iris[:, 2]\n",
    "\n",
    "plt.figure(figsize=(10, 6))\n",
    "plt.scatter(X_data[y_data == 0][:, 0], X_data[y_data == 0][:, 1], color='b', label='0')\n",
    "plt.scatter(X_data[y_data == 1][:, 0], X_data[y_data == 1][:, 1], color='r', label='1')\n",
    "plt.legend()"
   ]
  },
  {
   "cell_type": "code",
   "execution_count": null,
   "metadata": {},
   "outputs": [],
   "source": []
  },
  {
   "cell_type": "code",
   "execution_count": null,
   "metadata": {},
   "outputs": [],
   "source": []
  },
  {
   "cell_type": "code",
   "execution_count": 2,
   "metadata": {},
   "outputs": [
    {
     "name": "stdout",
     "output_type": "stream",
     "text": [
      "(100, 2)\n",
      "(100,)\n"
     ]
    }
   ],
   "source": [
    "# shuffle\n",
    "inds = np.arange(X_data.shape[0])\n",
    "np.random.shuffle(inds)\n",
    "\n",
    "X_data = X_data[inds]\n",
    "y_data = y_data[inds]\n",
    "\n",
    "print(X_data.shape)\n",
    "print(y_data.shape)"
   ]
  },
  {
   "cell_type": "code",
   "execution_count": null,
   "metadata": {},
   "outputs": [],
   "source": []
  },
  {
   "cell_type": "code",
   "execution_count": 7,
   "metadata": {},
   "outputs": [
    {
     "data": {
      "image/png": "[encoded data removed]",
      "text/plain": [
       "<Figure size 432x288 with 1 Axes>"
      ]
     },
     "metadata": {
      "needs_background": "light"
     },
     "output_type": "display_data"
    }
   ],
   "source": [
    "import math\n",
    "\n",
    "def sigmoid_function(z):\n",
    "    return 1 / (1 + np.exp(-z))\n",
    "\n",
    "def loss_function(y_hat, y):\n",
    "    return -y*math.log(y_hat) - (1-y)*math.log(1-y_hat)\n",
    "\n",
    "def predict(x1, x2, w1, w2, b):\n",
    "    z = x1*w1 + x2*w2 + b\n",
    "    y_hat = sigmoid_function(z)\n",
    "    return y_hat\n",
    "\n",
    "def compute_gradient(x1, x2, y_hat, y):\n",
    "    dl_dw1 = x1*(y_hat - y)\n",
    "    dl_dw2 = x2*(y_hat - y)\n",
    "    dl_db  = (y_hat - y)\n",
    "    \n",
    "    return dl_dw1, dl_dw2, dl_db\n",
    "\n",
    "def update(w1, w2, b, dl_dw1, dl_dw2, dl_db, lr):\n",
    "    w1 = w1 - lr*dl_dw1\n",
    "    w2 = w2 - lr*dl_dw2\n",
    "    b  = b - lr*dl_db\n",
    "    \n",
    "    return w1, w2, b\n",
    "\n",
    "\n",
    "lr=0.01\n",
    "num_iter=700\n",
    "N = 100\n",
    "\n",
    "# initialize parameters\n",
    "w1 = 0.1\n",
    "w2 = 0.5\n",
    "b = -0.1\n",
    "\n",
    "# for tracing\n",
    "losses = []\n",
    "accs   = []\n",
    "\n",
    "for i in range(num_iter):\n",
    "    for j in range(N):\n",
    "        # data\n",
    "        x1 = X_data[j][0]\n",
    "        x2 = X_data[j][1]\n",
    "        y  = y_data[j]\n",
    "        \n",
    "        # predict\n",
    "        y_hat = predict(x1, x2, w1, w2, b)\n",
    "\n",
    "        # compute loss\n",
    "        loss = loss_function(y_hat, y)\n",
    "\n",
    "        # compute gradient\n",
    "        dl_dw1, dl_dw2, dl_db = compute_gradient(x1, x2, y_hat, y)\n",
    "\n",
    "        # update\n",
    "        w1, w2, b = update(w1, w2, b, dl_dw1, dl_dw2, dl_db, lr)\n",
    "\n",
    "        # for tracing\n",
    "        if(i%10 == 0):\n",
    "            losses.append(loss)\n",
    "                   \n",
    "\n",
    "# show figures\n",
    "plt.plot(losses)\n",
    "plt.show()"
   ]
  },
  {
   "cell_type": "code",
   "execution_count": null,
   "metadata": {},
   "outputs": [],
   "source": []
  },
  {
   "cell_type": "code",
   "execution_count": 9,
   "metadata": {},
   "outputs": [
    {
     "name": "stdout",
     "output_type": "stream",
     "text": [
      "1.0\n"
     ]
    }
   ],
   "source": [
    "# compute accuracy\n",
    "aver_acc = 0.0\n",
    "for j in range(N):\n",
    "    # data\n",
    "    x1 = X_data[j][0]\n",
    "    x2 = X_data[j][1]\n",
    "    y  = y_data[j]\n",
    "    \n",
    "    # predict \n",
    "    y_hat = predict(x1, x2, w1, w2, b).round()\n",
    "    \n",
    "    # accuracy for training\n",
    "    acc = (y_hat == y)\n",
    "    aver_acc = aver_acc + acc\n",
    "    \n",
    "print(aver_acc/N)"
   ]
  },
  {
   "cell_type": "code",
   "execution_count": null,
   "metadata": {},
   "outputs": [],
   "source": []
  }
 ],
 "metadata": {
  "kernelspec": {
   "display_name": "Python 3 (ipykernel)",
   "language": "python",
   "name": "python3"
  },
  "language_info": {
   "codemirror_mode": {
    "name": "ipython",
    "version": 3
   },
   "file_extension": ".py",
   "mimetype": "text/x-python",
   "name": "python",
   "nbconvert_exporter": "python",
   "pygments_lexer": "ipython3",
   "version": "3.9.12"
  }
 },
 "nbformat": 4,
 "nbformat_minor": 2
}
