{
 "cells": [
  {
   "cell_type": "markdown",
   "metadata": {},
   "source": [
    "## Vertical sample arrangement"
   ]
  },
  {
   "cell_type": "code",
   "execution_count": null,
   "metadata": {},
   "outputs": [],
   "source": [
    "# load data\n",
    "\n",
    "import numpy as np\n",
    "from numpy import genfromtxt\n",
    "import matplotlib.pyplot as plt\n",
    "\n",
    "data = genfromtxt('data.csv', delimiter=',')\n",
    "areas  = data[:,0]\n",
    "prices = data[:,1:]\n",
    "N = areas.size\n",
    "\n",
    "print(type(areas))\n",
    "print('areas: \\n', areas)\n",
    "print('prices: \\n', prices)\n",
    "print('data_size: ', N)\n",
    "\n",
    "plt.scatter(areas, prices)\n",
    "plt.xlabel('areas')\n",
    "plt.ylabel('prices')\n",
    "plt.xlim(3,7)\n",
    "plt.ylim(4,10)\n",
    "plt.show()"
   ]
  },
  {
   "cell_type": "code",
   "execution_count": null,
   "metadata": {},
   "outputs": [],
   "source": []
  },
  {
   "cell_type": "code",
   "execution_count": null,
   "metadata": {},
   "outputs": [],
   "source": [
    "# vector [x, b]^T\n",
    "data = np.vstack([areas, np.ones((N,))])\n",
    "print('data \\n', data)\n",
    "\n",
    "theta = np.array([[-0.34], [0.04]]) #[w, b]\n",
    "print('theta \\n', theta)\n",
    "print(theta.shape)"
   ]
  },
  {
   "cell_type": "code",
   "execution_count": null,
   "metadata": {},
   "outputs": [],
   "source": []
  },
  {
   "cell_type": "code",
   "execution_count": null,
   "metadata": {},
   "outputs": [],
   "source": [
    "epoch_max = 10\n",
    "m = 2\n",
    "for epoch in range(epoch_max):\n",
    "    for i in range(0, N, m): \n",
    "        \n",
    "        # get m samples\n",
    "        x = data[:, i:i+m]\n",
    "        y = prices[i:i+m, :]\n",
    "        \n",
    "        print('x: \\n', x)\n",
    "        print('y: \\n', y)\n",
    "        \n",
    "        break\n",
    "    break"
   ]
  },
  {
   "cell_type": "code",
   "execution_count": null,
   "metadata": {},
   "outputs": [],
   "source": []
  },
  {
   "cell_type": "code",
   "execution_count": 10,
   "metadata": {},
   "outputs": [],
   "source": [
    "import numpy as np\n",
    "import matplotlib.pyplot as plt\n",
    "\n",
    "data   = np.genfromtxt('data.csv', delimiter=',')\n",
    "areas  = data[:,0]\n",
    "prices = data[:,1:]\n",
    "N = areas.size\n",
    "\n",
    "# vector [x, b]^T\n",
    "data = np.vstack([areas, np.ones((N,))])\n",
    "\n",
    " # [w, b]\n",
    "theta = np.array([[-0.34], \n",
    "                  [0.04]])\n",
    "                  \n",
    "# params\n",
    "lr = 0.01\n",
    "epoch_max = 20\n",
    "m = 2 \n",
    "\n",
    "# logging\n",
    "losses = [] \n",
    "\n",
    "for epoch in range(epoch_max):\n",
    "    for i in range(0, N, m):\n",
    "        # get m samples\n",
    "        x = data[:, i:i+m]\n",
    "        y = prices[i:i+m, :]\n",
    "        \n",
    "        # predict y_hat\n",
    "        y_hat = theta.T.dot(x)\n",
    "                \n",
    "        # compute loss\n",
    "        loss = np.multiply((y_hat-y.T), (y_hat-y.T))\n",
    "        losses.append(np.mean(loss))\n",
    "        \n",
    "        # compute gradient\n",
    "        k = 2*(y_hat-y.T)\n",
    "        gradients = np.multiply(np.vstack((k, k)), x)\n",
    "        gradients = gradients.dot(np.ones((m, 1))) / m\n",
    "\n",
    "        # update weights\n",
    "        theta = theta - lr*gradients"
   ]
  },
  {
   "cell_type": "code",
   "execution_count": null,
   "metadata": {},
   "outputs": [],
   "source": []
  },
  {
   "cell_type": "code",
   "execution_count": 11,
   "metadata": {},
   "outputs": [
    {
     "data": {
      "image/png": "[encoded data removed]",
      "text/plain": [
       "<Figure size 432x288 with 1 Axes>"
      ]
     },
     "metadata": {
      "needs_background": "light"
     },
     "output_type": "display_data"
    }
   ],
   "source": [
    "import matplotlib.pyplot as plt\n",
    "\n",
    "plt.plot(losses)\n",
    "plt.xlabel('iteration')\n",
    "plt.ylabel('losses')\n",
    "plt.show()"
   ]
  },
  {
   "cell_type": "code",
   "execution_count": null,
   "metadata": {},
   "outputs": [],
   "source": [
    "x_data = range(2, 8)\n",
    "y_data = [x*theta[0] + theta[1] for x in x_data]\n",
    "plt.plot(x_data, y_data)\n",
    "#--------------------------------------\n",
    "plt.scatter(areas, prices)\n",
    "\n",
    "plt.xlabel('Diện tích nhà (x 100$m^2$)')\n",
    "plt.ylabel('Giá nhà (chục lượng vàng)')\n",
    "\n",
    "plt.xlim(3,7)\n",
    "plt.ylim(4,10)\n",
    "plt.show()"
   ]
  },
  {
   "cell_type": "code",
   "execution_count": null,
   "metadata": {},
   "outputs": [],
   "source": []
  },
  {
   "cell_type": "code",
   "execution_count": null,
   "metadata": {},
   "outputs": [],
   "source": []
  },
  {
   "cell_type": "code",
   "execution_count": 12,
   "metadata": {},
   "outputs": [],
   "source": [
    "# using dot product\n",
    "\n",
    "import numpy as np\n",
    "import matplotlib.pyplot as plt\n",
    "\n",
    "data   = np.genfromtxt('data.csv', delimiter=',')\n",
    "areas  = data[:,0]\n",
    "prices = data[:,1:]\n",
    "N = areas.size\n",
    "\n",
    "# vector [x, b]^T\n",
    "data = np.vstack([areas, np.ones((N,))])\n",
    "\n",
    " # [w, b]\n",
    "theta = np.array([[-0.34], \n",
    "                  [0.04]])\n",
    "                  \n",
    "# params\n",
    "lr = 0.01\n",
    "epoch_max = 20\n",
    "m = 2 \n",
    "\n",
    "# logging\n",
    "losses = [] \n",
    "\n",
    "for epoch in range(epoch_max):\n",
    "    for i in range(0, N, m):\n",
    "        # get m samples\n",
    "        x = data[:, i:i+m]\n",
    "        y = prices[i:i+m, :]\n",
    "        \n",
    "        # predict y_hat\n",
    "        y_hat = theta.T.dot(x)\n",
    "                \n",
    "        # compute loss\n",
    "        loss = np.multiply((y_hat-y.T), (y_hat-y.T))\n",
    "        losses.append(np.mean(loss))\n",
    "        \n",
    "        # compute gradient\n",
    "        k = 2*(y_hat-y.T)\n",
    "        gradients = x.dot(k.T) / m\n",
    "\n",
    "        # update weights\n",
    "        theta = theta - lr*gradients"
   ]
  },
  {
   "cell_type": "code",
   "execution_count": 13,
   "metadata": {},
   "outputs": [
    {
     "data": {
      "image/png": "[encoded data removed]",
      "text/plain": [
       "<Figure size 432x288 with 1 Axes>"
      ]
     },
     "metadata": {
      "needs_background": "light"
     },
     "output_type": "display_data"
    }
   ],
   "source": [
    "import matplotlib.pyplot as plt\n",
    "\n",
    "plt.plot(losses)\n",
    "plt.xlabel('iteration')\n",
    "plt.ylabel('losses')\n",
    "plt.show()"
   ]
  },
  {
   "cell_type": "code",
   "execution_count": null,
   "metadata": {},
   "outputs": [],
   "source": []
  },
  {
   "cell_type": "markdown",
   "metadata": {},
   "source": [
    "### Horizontal sample arrangement"
   ]
  },
  {
   "cell_type": "code",
   "execution_count": 7,
   "metadata": {},
   "outputs": [
    {
     "name": "stdout",
     "output_type": "stream",
     "text": [
      "[[6.7 1. ]\n",
      " [4.6 1. ]\n",
      " [3.5 1. ]\n",
      " [5.5 1. ]]\n",
      "[[-0.34 ]\n",
      " [ 0.049]]\n",
      "[[9.1]\n",
      " [5.9]\n",
      " [4.6]\n",
      " [6.7]]\n"
     ]
    }
   ],
   "source": [
    "import numpy as np\n",
    "import matplotlib.pyplot as plt\n",
    "\n",
    "data   = np.genfromtxt('data.csv', delimiter=',')\n",
    "areas  = data[:,0:1]\n",
    "prices = data[:,1:]\n",
    "N = areas.size\n",
    "\n",
    "# vector [x, b]\n",
    "data = np.hstack([areas, np.ones((N,1))])\n",
    "\n",
    " # [w, b]\n",
    "theta = np.array([[-0.34], \n",
    "                  [0.049]])\n",
    "\n",
    "print(data)\n",
    "print(theta)\n",
    "print(prices)"
   ]
  },
  {
   "cell_type": "code",
   "execution_count": 8,
   "metadata": {},
   "outputs": [],
   "source": [
    "# params\n",
    "lr = 0.01\n",
    "epoch_max = 20\n",
    "m = 2 \n",
    "\n",
    "# logging\n",
    "losses = [] \n",
    "\n",
    "for epoch in range(epoch_max):\n",
    "    for i in range(0, N, m):\n",
    "        # get m samples\n",
    "        x = data[i:i+m, :]\n",
    "        y = prices[i:i+m, :]\n",
    "        \n",
    "        # predict y_hat\n",
    "        y_hat = x.dot(theta)\n",
    "                     \n",
    "        # compute loss\n",
    "        loss = np.multiply((y_hat-y), (y_hat-y))\n",
    "        losses.append(np.mean(loss))\n",
    "        \n",
    "        # compute gradient\n",
    "        k = 2*(y_hat-y)\n",
    "        gradients = k.T.dot(x) / m\n",
    "\n",
    "        # update weights\n",
    "        theta = theta - lr*gradients.T"
   ]
  },
  {
   "cell_type": "code",
   "execution_count": 9,
   "metadata": {},
   "outputs": [
    {
     "data": {
      "image/png": "[encoded data removed]",
      "text/plain": [
       "<Figure size 432x288 with 1 Axes>"
      ]
     },
     "metadata": {
      "needs_background": "light"
     },
     "output_type": "display_data"
    }
   ],
   "source": [
    "import matplotlib.pyplot as plt\n",
    "\n",
    "plt.plot(losses)\n",
    "plt.xlabel('iteration')\n",
    "plt.ylabel('losses')\n",
    "plt.show()"
   ]
  },
  {
   "cell_type": "code",
   "execution_count": null,
   "metadata": {},
   "outputs": [],
   "source": []
  },
  {
   "cell_type": "code",
   "execution_count": null,
   "metadata": {},
   "outputs": [],
   "source": []
  }
 ],
 "metadata": {
  "kernelspec": {
   "display_name": "Python 3 (ipykernel)",
   "language": "python",
   "name": "python3"
  },
  "language_info": {
   "codemirror_mode": {
    "name": "ipython",
    "version": 3
   },
   "file_extension": ".py",
   "mimetype": "text/x-python",
   "name": "python",
   "nbconvert_exporter": "python",
   "pygments_lexer": "ipython3",
   "version": "3.9.12"
  }
 },
 "nbformat": 4,
 "nbformat_minor": 2
}
