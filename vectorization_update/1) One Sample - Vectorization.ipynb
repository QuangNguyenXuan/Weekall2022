{
 "cells": [
  {
   "cell_type": "code",
   "execution_count": null,
   "metadata": {},
   "outputs": [],
   "source": [
    "# Implementation - vectorization\n",
    "\n",
    "# load data\n",
    "import numpy as np\n",
    "from numpy import genfromtxt\n",
    "import matplotlib.pyplot as plt\n",
    "\n",
    "data = genfromtxt('data.csv', delimiter=',')\n",
    "areas  = data[:,0:1]\n",
    "prices = data[:,1:]\n",
    "N = areas.size\n",
    "\n",
    "print(type(areas))\n",
    "print('areas: ', areas)\n",
    "print('prices: ', prices)\n",
    "print('data_size: ', N)\n",
    "\n",
    "plt.scatter(areas, prices)\n",
    "plt.xlabel('Diện tích nhà (x 100$m^2$)')\n",
    "plt.ylabel('Giá nhà (chục lượng vàng)')\n",
    "plt.xlim(3,7)\n",
    "plt.ylim(4,10)\n",
    "plt.show()"
   ]
  },
  {
   "cell_type": "code",
   "execution_count": null,
   "metadata": {},
   "outputs": [],
   "source": []
  },
  {
   "cell_type": "code",
   "execution_count": null,
   "metadata": {},
   "outputs": [],
   "source": []
  },
  {
   "cell_type": "code",
   "execution_count": 5,
   "metadata": {},
   "outputs": [],
   "source": [
    "# forward\n",
    "def predict(x, theta):\n",
    "    return x.dot(theta)\n",
    "\n",
    "# compute gradient\n",
    "def gradient(y_hat, y, x):\n",
    "    dtheta = 2*x*(y_hat-y)\n",
    "    \n",
    "    return dtheta\n",
    "\n",
    "# update weights\n",
    "def update_weight(theta, lr, dtheta):\n",
    "    dtheta_new = theta - lr*dtheta\n",
    "    \n",
    "    return dtheta_new"
   ]
  },
  {
   "cell_type": "code",
   "execution_count": null,
   "metadata": {},
   "outputs": [],
   "source": []
  },
  {
   "cell_type": "code",
   "execution_count": 6,
   "metadata": {},
   "outputs": [
    {
     "name": "stdout",
     "output_type": "stream",
     "text": [
      "[9.1 5.9 4.6 6.7]\n",
      "data: \n",
      " [[6.7 1. ]\n",
      " [4.6 1. ]\n",
      " [3.5 1. ]\n",
      " [5.5 1. ]]\n",
      "theta: \n",
      " [-0.34  0.04]\n"
     ]
    }
   ],
   "source": [
    "import numpy as np\n",
    "from numpy import genfromtxt\n",
    "import matplotlib.pyplot as plt\n",
    "\n",
    "data = genfromtxt('data.csv', delimiter=',')\n",
    "areas  = data[:,0:1]\n",
    "prices = data[:,1]\n",
    "N = areas.size\n",
    "\n",
    "print(prices)\n",
    "\n",
    "# vector [x, b]\n",
    "data = np.hstack([areas, np.ones((N,1))])\n",
    "print('data: \\n', data)\n",
    "\n",
    "theta = np.array([-0.34, 0.04]) #[w, b]\n",
    "print('theta: \\n', theta)\n",
    "\n",
    "# params\n",
    "lr = 0.01\n",
    "epoch_max = 10\n",
    "\n",
    "losses = [] # for debug"
   ]
  },
  {
   "cell_type": "code",
   "execution_count": 7,
   "metadata": {},
   "outputs": [
    {
     "name": "stdout",
     "output_type": "stream",
     "text": [
      "theta: \n",
      " [1.21260167 0.22516769]\n"
     ]
    }
   ],
   "source": [
    "for epoch in range(epoch_max):    \n",
    "    for i in range(N):        \n",
    "        # get a sample\n",
    "        x = data[i,:]\n",
    "        y = prices[i:i+1]\n",
    "\n",
    "        # predict y_hat\n",
    "        y_hat = predict(x, theta)\n",
    "\n",
    "        # compute loss\n",
    "        loss = (y_hat-y)*(y_hat-y)\n",
    "        losses.append(loss[0])\n",
    "\n",
    "        # compute gradient\n",
    "        dtheta = gradient(y_hat, y, x)\n",
    "\n",
    "        # update weights\n",
    "        theta = update_weight(theta, lr, dtheta)\n",
    "        \n",
    "print('theta: \\n', theta)"
   ]
  },
  {
   "cell_type": "code",
   "execution_count": 8,
   "metadata": {},
   "outputs": [
    {
     "data": {
      "image/png": "[encoded data removed]",
      "text/plain": [
       "<Figure size 432x288 with 1 Axes>"
      ]
     },
     "metadata": {
      "needs_background": "light"
     },
     "output_type": "display_data"
    }
   ],
   "source": [
    "import matplotlib.pyplot as plt\n",
    "\n",
    "plt.plot(losses) # test with losses[3:]\n",
    "plt.xlabel('iteration')\n",
    "plt.ylabel('losses')\n",
    "plt.show()"
   ]
  },
  {
   "cell_type": "code",
   "execution_count": null,
   "metadata": {},
   "outputs": [],
   "source": []
  },
  {
   "cell_type": "code",
   "execution_count": 9,
   "metadata": {},
   "outputs": [
    {
     "data": {
      "image/png": "[encoded data removed]",
      "text/plain": [
       "<Figure size 432x288 with 1 Axes>"
      ]
     },
     "metadata": {
      "needs_background": "light"
     },
     "output_type": "display_data"
    }
   ],
   "source": [
    "x_data = range(2, 8)\n",
    "y_data = [x*theta[0] + theta[1] for x in x_data]\n",
    "plt.plot(x_data, y_data)\n",
    "#--------------------------------------\n",
    "plt.scatter(areas, prices)\n",
    "\n",
    "plt.xlabel('Diện tích nhà (x 100$m^2$)')\n",
    "plt.ylabel('Giá nhà (chục lượng vàng)')\n",
    "\n",
    "plt.xlim(3,7)\n",
    "plt.ylim(4,10)\n",
    "plt.show()"
   ]
  },
  {
   "cell_type": "code",
   "execution_count": null,
   "metadata": {},
   "outputs": [],
   "source": []
  },
  {
   "cell_type": "code",
   "execution_count": null,
   "metadata": {},
   "outputs": [],
   "source": []
  }
 ],
 "metadata": {
  "kernelspec": {
   "display_name": "Python 3 (ipykernel)",
   "language": "python",
   "name": "python3"
  },
  "language_info": {
   "codemirror_mode": {
    "name": "ipython",
    "version": 3
   },
   "file_extension": ".py",
   "mimetype": "text/x-python",
   "name": "python",
   "nbconvert_exporter": "python",
   "pygments_lexer": "ipython3",
   "version": "3.9.12"
  }
 },
 "nbformat": 4,
 "nbformat_minor": 2
}
