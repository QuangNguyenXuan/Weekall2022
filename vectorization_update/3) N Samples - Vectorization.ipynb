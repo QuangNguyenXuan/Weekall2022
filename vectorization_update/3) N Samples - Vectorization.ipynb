{
 "cells": [
  {
   "cell_type": "code",
   "execution_count": 9,
   "metadata": {},
   "outputs": [
    {
     "name": "stdout",
     "output_type": "stream",
     "text": [
      "[[6.7 1. ]\n",
      " [4.6 1. ]\n",
      " [3.5 1. ]\n",
      " [5.5 1. ]]\n",
      "[[-0.34 ]\n",
      " [ 0.049]]\n",
      "[[9.1]\n",
      " [5.9]\n",
      " [4.6]\n",
      " [6.7]]\n"
     ]
    }
   ],
   "source": [
    "import numpy as np\n",
    "import matplotlib.pyplot as plt\n",
    "\n",
    "data   = np.genfromtxt('data.csv', delimiter=',')\n",
    "areas  = data[:,0:1]\n",
    "prices = data[:,1:]\n",
    "N = areas.size\n",
    "\n",
    "# vector [x, b]\n",
    "data = np.hstack([areas, np.ones((N,1))])\n",
    "\n",
    " # [w, b]\n",
    "theta = np.array([[-0.34], \n",
    "                  [0.049]])\n",
    "\n",
    "print(data)\n",
    "print(theta)\n",
    "print(prices)"
   ]
  },
  {
   "cell_type": "code",
   "execution_count": null,
   "metadata": {},
   "outputs": [],
   "source": []
  },
  {
   "cell_type": "code",
   "execution_count": 11,
   "metadata": {},
   "outputs": [],
   "source": [
    "# params\n",
    "lr = 0.01\n",
    "epoch_max = 20\n",
    "\n",
    "# logging\n",
    "losses = [] \n",
    "\n",
    "for epoch in range(epoch_max):    \n",
    "    # get all the samples\n",
    "    x = data\n",
    "    y = prices\n",
    "\n",
    "    # predict y_hat\n",
    "    y_hat = x.dot(theta)\n",
    "    \n",
    "    # compute loss\n",
    "    loss = np.multiply((y_hat-y), (y_hat-y))\n",
    "    losses.append(np.mean(loss))\n",
    "\n",
    "    # compute gradient\n",
    "    k = 2*(y_hat-y)\n",
    "    gradients = k.T.dot(x) / N    \n",
    "\n",
    "    # update weights\n",
    "    theta = theta - lr*gradients.T"
   ]
  },
  {
   "cell_type": "code",
   "execution_count": null,
   "metadata": {},
   "outputs": [],
   "source": []
  },
  {
   "cell_type": "code",
   "execution_count": 12,
   "metadata": {},
   "outputs": [
    {
     "data": {
      "image/png": "[encoded data removed]",
      "text/plain": [
       "<Figure size 432x288 with 1 Axes>"
      ]
     },
     "metadata": {
      "needs_background": "light"
     },
     "output_type": "display_data"
    }
   ],
   "source": [
    "import matplotlib.pyplot as plt\n",
    "\n",
    "plt.plot(losses)\n",
    "plt.xlabel('iteration')\n",
    "plt.ylabel('losses')\n",
    "plt.show()"
   ]
  },
  {
   "cell_type": "code",
   "execution_count": null,
   "metadata": {},
   "outputs": [],
   "source": []
  },
  {
   "cell_type": "code",
   "execution_count": null,
   "metadata": {},
   "outputs": [],
   "source": []
  },
  {
   "cell_type": "code",
   "execution_count": null,
   "metadata": {},
   "outputs": [],
   "source": []
  },
  {
   "cell_type": "code",
   "execution_count": 1,
   "metadata": {},
   "outputs": [
    {
     "name": "stdout",
     "output_type": "stream",
     "text": [
      "[[6.7 1. ]\n",
      " [4.6 1. ]\n",
      " [3.5 1. ]\n",
      " [5.5 1. ]]\n",
      "[[-0.34 ]\n",
      " [ 0.049]]\n",
      "[[9.1]\n",
      " [5.9]\n",
      " [4.6]\n",
      " [6.7]]\n"
     ]
    }
   ],
   "source": [
    "import numpy as np\n",
    "import matplotlib.pyplot as plt\n",
    "\n",
    "data   = np.genfromtxt('data.csv', delimiter=',')\n",
    "areas  = data[:,0:1]\n",
    "prices = data[:,1:]\n",
    "N = areas.size\n",
    "\n",
    "# vector [x, b]\n",
    "data = np.hstack([areas, np.ones((N,1))])\n",
    "\n",
    " # [w, b]\n",
    "theta = np.array([[-0.34], \n",
    "                  [0.049]])\n",
    "\n",
    "print(data)\n",
    "print(theta)\n",
    "print(prices)"
   ]
  },
  {
   "cell_type": "code",
   "execution_count": null,
   "metadata": {},
   "outputs": [],
   "source": []
  },
  {
   "cell_type": "code",
   "execution_count": 2,
   "metadata": {},
   "outputs": [],
   "source": [
    "# params\n",
    "lr = 0.01\n",
    "epoch_max = 20\n",
    "\n",
    "# logging\n",
    "losses = [] \n",
    "\n",
    "for epoch in range(epoch_max):    \n",
    "    # get all the samples\n",
    "    x = data\n",
    "    y = prices\n",
    "\n",
    "    # predict y_hat\n",
    "    y_hat = x.dot(theta)\n",
    "    \n",
    "    # compute loss\n",
    "    loss = np.multiply((y_hat-y), (y_hat-y))\n",
    "    losses.append(np.mean(loss))\n",
    "\n",
    "    # compute gradient\n",
    "    k = 2*(y_hat-y)\n",
    "    gradients = x.T.dot(k) / N    \n",
    "\n",
    "    # update weights\n",
    "    theta = theta - lr*gradients"
   ]
  },
  {
   "cell_type": "code",
   "execution_count": null,
   "metadata": {},
   "outputs": [],
   "source": []
  },
  {
   "cell_type": "code",
   "execution_count": 3,
   "metadata": {},
   "outputs": [
    {
     "data": {
      "image/png": "[encoded data removed]",
      "text/plain": [
       "<Figure size 432x288 with 1 Axes>"
      ]
     },
     "metadata": {
      "needs_background": "light"
     },
     "output_type": "display_data"
    }
   ],
   "source": [
    "import matplotlib.pyplot as plt\n",
    "\n",
    "plt.plot(losses)\n",
    "plt.xlabel('iteration')\n",
    "plt.ylabel('losses')\n",
    "plt.show()"
   ]
  },
  {
   "cell_type": "code",
   "execution_count": null,
   "metadata": {},
   "outputs": [],
   "source": []
  }
 ],
 "metadata": {
  "kernelspec": {
   "display_name": "Python 3 (ipykernel)",
   "language": "python",
   "name": "python3"
  },
  "language_info": {
   "codemirror_mode": {
    "name": "ipython",
    "version": 3
   },
   "file_extension": ".py",
   "mimetype": "text/x-python",
   "name": "python",
   "nbconvert_exporter": "python",
   "pygments_lexer": "ipython3",
   "version": "3.9.12"
  }
 },
 "nbformat": 4,
 "nbformat_minor": 2
}
