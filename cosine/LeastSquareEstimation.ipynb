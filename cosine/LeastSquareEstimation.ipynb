{
 "cells": [
  {
   "cell_type": "markdown",
   "id": "45094c9b",
   "metadata": {},
   "source": [
    "### Some operations"
   ]
  },
  {
   "cell_type": "code",
   "execution_count": null,
   "id": "419db26d",
   "metadata": {},
   "outputs": [],
   "source": [
    "import numpy as np\n",
    "\n",
    "A = np.array([[6.7, 1],\n",
    "              [4.6, 1],\n",
    "              [3.5, 1],\n",
    "              [5.5, 1]])\n",
    "print(A)\n",
    "print(A.T)"
   ]
  },
  {
   "cell_type": "code",
   "execution_count": null,
   "id": "e1faa484",
   "metadata": {},
   "outputs": [],
   "source": [
    "ATA = np.dot(A.T, A)\n",
    "print(ATA)"
   ]
  },
  {
   "cell_type": "code",
   "execution_count": null,
   "id": "dcd96d9d",
   "metadata": {},
   "outputs": [],
   "source": []
  },
  {
   "cell_type": "code",
   "execution_count": null,
   "id": "7396512f",
   "metadata": {},
   "outputs": [],
   "source": [
    "# compute determinant\n",
    "d_value = np.linalg.det(ATA)\n",
    "print(d_value)"
   ]
  },
  {
   "cell_type": "code",
   "execution_count": null,
   "id": "1dcba847",
   "metadata": {},
   "outputs": [],
   "source": []
  },
  {
   "cell_type": "code",
   "execution_count": null,
   "id": "e96204e4",
   "metadata": {},
   "outputs": [],
   "source": [
    "# compute the inverse of a matrix\n",
    "ATAminus1 = np.linalg.inv(ATA)\n",
    "print(ATAminus1)"
   ]
  },
  {
   "cell_type": "code",
   "execution_count": null,
   "id": "c5eb5961",
   "metadata": {},
   "outputs": [],
   "source": []
  },
  {
   "cell_type": "code",
   "execution_count": null,
   "id": "f3b872d7",
   "metadata": {},
   "outputs": [],
   "source": [
    "b = np.array([9.1, 5.9, 4.6, 6.7])\n",
    "buffer = np.dot(A.T, b)\n",
    "print(buffer)"
   ]
  },
  {
   "cell_type": "code",
   "execution_count": null,
   "id": "9cfa9c93",
   "metadata": {},
   "outputs": [],
   "source": [
    "x = np.dot(ATAminus1, buffer)\n",
    "print(x)"
   ]
  },
  {
   "cell_type": "code",
   "execution_count": null,
   "id": "f3b755e4",
   "metadata": {},
   "outputs": [],
   "source": []
  },
  {
   "cell_type": "code",
   "execution_count": 1,
   "id": "e4540d2d",
   "metadata": {},
   "outputs": [
    {
     "name": "stdout",
     "output_type": "stream",
     "text": [
      "[ 1.37268204 -0.39136137]\n"
     ]
    }
   ],
   "source": [
    "# least square estimation\n",
    "\n",
    "import numpy as np\n",
    "\n",
    "A = np.array([[6.7, 1],\n",
    "              [4.6, 1],\n",
    "              [3.5, 1],\n",
    "              [5.5, 1]])\n",
    "\n",
    "y = np.array([9.1, 5.9, 4.6, 6.7])\n",
    "\n",
    "# compute A(^T)A\n",
    "ATA = np.dot(A.T, A)\n",
    "\n",
    "# compute determinant\n",
    "d_value = np.linalg.det(ATA)\n",
    "\n",
    "# compute the inverse of a matrix\n",
    "ATAminus1 = np.linalg.inv(ATA)\n",
    "\n",
    "# compute lse\n",
    "x = np.dot(ATAminus1, np.dot(A.T, y))\n",
    "print(x)"
   ]
  },
  {
   "cell_type": "code",
   "execution_count": null,
   "id": "a573f15e",
   "metadata": {},
   "outputs": [],
   "source": []
  },
  {
   "cell_type": "code",
   "execution_count": null,
   "id": "16ac5f5c",
   "metadata": {},
   "outputs": [],
   "source": []
  },
  {
   "cell_type": "code",
   "execution_count": null,
   "id": "ec315d92",
   "metadata": {},
   "outputs": [],
   "source": []
  },
  {
   "cell_type": "markdown",
   "id": "cb83e381",
   "metadata": {},
   "source": [
    "### Lease square estimation"
   ]
  },
  {
   "cell_type": "code",
   "execution_count": null,
   "id": "cad075e8",
   "metadata": {},
   "outputs": [],
   "source": [
    "import numpy as np\n",
    "\n",
    "areas  = np.array([6.7, 4.6, 3.5, 5.5])\n",
    "prices = np.array([9.1, 5.9, 4.6, 6.7])"
   ]
  },
  {
   "cell_type": "code",
   "execution_count": null,
   "id": "757424ae",
   "metadata": {},
   "outputs": [],
   "source": []
  },
  {
   "cell_type": "code",
   "execution_count": null,
   "id": "8b754a0e",
   "metadata": {},
   "outputs": [],
   "source": [
    "A = np.vstack([areas, np.ones(len(areas))]).T\n",
    "print(A)"
   ]
  },
  {
   "cell_type": "code",
   "execution_count": null,
   "id": "41538b56",
   "metadata": {},
   "outputs": [],
   "source": []
  },
  {
   "cell_type": "code",
   "execution_count": null,
   "id": "dcbbea7b",
   "metadata": {},
   "outputs": [],
   "source": [
    "data = np.linalg.lstsq(A, prices, rcond=None)[0]\n",
    "print(data)"
   ]
  },
  {
   "cell_type": "code",
   "execution_count": null,
   "id": "757aecce",
   "metadata": {},
   "outputs": [],
   "source": []
  },
  {
   "cell_type": "code",
   "execution_count": null,
   "id": "f3fa6d92",
   "metadata": {},
   "outputs": [],
   "source": [
    "import numpy as np\n",
    "\n",
    "# data\n",
    "x = np.array([6.7, 4.6, 3.5, 5.5])\n",
    "y = np.array([9.1, 5.9, 4.6, 6.7])\n",
    "\n",
    "# create A = [x 1]\n",
    "A = np.vstack([x, np.ones(len(x))]).T\n",
    "\n",
    "# compute least square\n",
    "w, b = np.linalg.lstsq(A, y, rcond=None)[0]\n",
    "print(w, b)\n",
    "\n",
    "# compute y_hat\n",
    "y_hat = x*w + b\n",
    "print(y_hat)"
   ]
  },
  {
   "cell_type": "code",
   "execution_count": null,
   "id": "9debbd2c",
   "metadata": {},
   "outputs": [],
   "source": [
    "import matplotlib.pyplot as plt\n",
    "plt.plot(x, y, 'o', label='Original data')\n",
    "plt.plot(x, w*x + b, 'r', label='Fitted line')\n",
    "plt.legend()\n",
    "plt.show()"
   ]
  },
  {
   "cell_type": "code",
   "execution_count": null,
   "id": "1da02a97",
   "metadata": {},
   "outputs": [],
   "source": []
  }
 ],
 "metadata": {
  "kernelspec": {
   "display_name": "Python 3 (ipykernel)",
   "language": "python",
   "name": "python3"
  },
  "language_info": {
   "codemirror_mode": {
    "name": "ipython",
    "version": 3
   },
   "file_extension": ".py",
   "mimetype": "text/x-python",
   "name": "python",
   "nbconvert_exporter": "python",
   "pygments_lexer": "ipython3",
   "version": "3.9.12"
  }
 },
 "nbformat": 4,
 "nbformat_minor": 5
}
